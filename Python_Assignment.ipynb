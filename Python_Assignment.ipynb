{
  "nbformat": 4,
  "nbformat_minor": 0,
  "metadata": {
    "colab": {
      "provenance": []
    },
    "kernelspec": {
      "name": "python3",
      "display_name": "Python 3"
    },
    "language_info": {
      "name": "python"
    }
  },
  "cells": [
    {
      "cell_type": "markdown",
      "source": [
        "1.  What is Python, and why is it popular?\n",
        "\n",
        "     - Python is a high - level interpreted programming language known for its readability and versatility. It's popular because of its simple syntax, large community , extensive libraries, and wide applicability, including web development, data analysis, AI and more.\n",
        "\n",
        "\n",
        "2. What is an interpreter in Python?\n",
        "\n",
        "   - An interpreter is a program that executes python code line-by-line, allowing you to run scripts interactively. This makes it easier to debug and develop code quickly.\n",
        "\n",
        "\n",
        "3.  What are pre-defined keywords in Python?\n",
        "  \n",
        "  - Pre- defined keywords in python are reserved words that have a specific meaning and purpose within the language. Example if,else,for,while,true and false.\n",
        "\n",
        "\n",
        "4. Can keywords be used as variable names?\n",
        "\n",
        "  - No,keywords cannot be used as variables names as they are reserved by Python for specific functionalities.\n",
        "\n",
        "\n",
        "5. What is mutability in Python?\n",
        "\n",
        " - Mutability refers to an object's ability to change its state or content after creation. For example,lists are mutable, while tuples are immutable.\n",
        "\n",
        "\n",
        " 6. Why are lists mutable, but tuples are immutable?\n",
        "\n",
        "   - Lists are designed to be fexible, so they allow modification of elements. Tuples,on the other hand,are designed as fixed collections,making them faster and safer in scenarios where data should not change.\n",
        "\n",
        "  \n",
        " 7. What is the difference between “==” and “is” operators in Python?\n",
        "\n",
        "   - \"==\" checks if the values of two objects are equal,while\"is\"checks if two variables point to the same memory location (i.e.,if they are the same objects).\n",
        "\n",
        "\n",
        " 8. What are logical operators in Python?\n",
        "\n",
        "   - Logical operators are used to combine multiple conditions and include and,or,and not.\n",
        "\n",
        "\n",
        "  9. What is type casting in Python?\n",
        "\n",
        "   - Type casting is the conversion of one data type to another ,such as converting an integer to a string or a float.\n",
        "\n",
        "\n",
        "  10. What is the difference between implicit and explicit type casting?\n",
        "\n",
        "    - Implicit casting is done automatically by Python, while explicit casting requires the use of functions like int(), float(), or str() to convert between types.\n",
        "\n",
        "  \n",
        "  11. What is the purpose of conditional statements in Python?\n",
        "\n",
        "   - Conditional statements, such as if,elif,and else,allow Python to execute certain blocks of code based on wether a condition is True or False.\n",
        "\n",
        "\n",
        "  12. How does the elif statement work?\n",
        "\n",
        "   - The elif statement provides additional conditions after an intial if. It is only executed if the previous if or elif condition was False.\n",
        "\n",
        "\n",
        "  13. What is the difference between for and while loops?\n",
        "\n",
        "   - A for loop is typically used when you know the number of iterations in advance, while a while loop is used when the number of iterations depends on a condition.\n",
        "\n",
        "\n",
        "  14. Describe a scenario where a while loop is more suitable than a for loop?\n",
        "\n",
        "   - A while loop is ideal when you want to continue looping until a specific condition is met,like waiting for user input or monitoring a process until it completes.\n",
        "  "
      ],
      "metadata": {
        "id": "SEf0oPP6Zbgn"
      }
    },
    {
      "cell_type": "markdown",
      "source": [
        "Practical Questions."
      ],
      "metadata": {
        "id": "wpc6tbXUggyF"
      }
    },
    {
      "cell_type": "markdown",
      "source": [
        "1. Write a Python program to print \"Hello, World!"
      ],
      "metadata": {
        "id": "keFrmKJYh98b"
      }
    },
    {
      "cell_type": "code",
      "source": [
        "print(\"Hello,World!\")"
      ],
      "metadata": {
        "colab": {
          "base_uri": "https://localhost:8080/"
        },
        "id": "78SOOkPWgE9e",
        "outputId": "b4b31815-4f89-46f4-a73c-3db4a3bc3103"
      },
      "execution_count": 10,
      "outputs": [
        {
          "output_type": "stream",
          "name": "stdout",
          "text": [
            "Hello,World!\n"
          ]
        }
      ]
    },
    {
      "cell_type": "markdown",
      "source": [
        "2. Write a Python program that displays your name and age"
      ],
      "metadata": {
        "id": "7YzObAKeiURz"
      }
    },
    {
      "cell_type": "code",
      "source": [
        "name = \"Vaishali\"\n",
        "age = 27\n",
        "\n",
        "print(f\"My name is {name} and I am {age} years old.\")"
      ],
      "metadata": {
        "colab": {
          "base_uri": "https://localhost:8080/"
        },
        "id": "PXHdT824gSX-",
        "outputId": "3277164c-775b-49b7-8a85-2968caff1455"
      },
      "execution_count": 11,
      "outputs": [
        {
          "output_type": "stream",
          "name": "stdout",
          "text": [
            "My name is Vaishali and I am 27 years old.\n"
          ]
        }
      ]
    },
    {
      "cell_type": "markdown",
      "source": [
        "3. Write code to print all the pre-defined keywords in Python using the keyword library"
      ],
      "metadata": {
        "id": "Cy69U3Z9ipwD"
      }
    },
    {
      "cell_type": "code",
      "source": [
        "import keyword\n",
        "\n",
        "print(keyword.kwlist)"
      ],
      "metadata": {
        "colab": {
          "base_uri": "https://localhost:8080/"
        },
        "id": "-N2QlGwGitvX",
        "outputId": "bf17083d-05db-41c4-8e1d-b9dea5d2dae2"
      },
      "execution_count": 13,
      "outputs": [
        {
          "output_type": "stream",
          "name": "stdout",
          "text": [
            "['False', 'None', 'True', 'and', 'as', 'assert', 'async', 'await', 'break', 'class', 'continue', 'def', 'del', 'elif', 'else', 'except', 'finally', 'for', 'from', 'global', 'if', 'import', 'in', 'is', 'lambda', 'nonlocal', 'not', 'or', 'pass', 'raise', 'return', 'try', 'while', 'with', 'yield']\n"
          ]
        }
      ]
    },
    {
      "cell_type": "markdown",
      "source": [
        "4. Write a program that checks if a given word is a Python keyword."
      ],
      "metadata": {
        "id": "xM97835Zi3vW"
      }
    },
    {
      "cell_type": "code",
      "source": [
        "import keyword\n",
        "\n",
        "word_to_check = \"for\"  # Replace with the word you want to check\n",
        "\n",
        "if keyword.iskeyword(word_to_check):\n",
        "  print(f\"'{word_to_check}' is a Python keyword.\")\n",
        "else:\n",
        "  print(f\"'{word_to_check}' is not a Python keyword.\")"
      ],
      "metadata": {
        "colab": {
          "base_uri": "https://localhost:8080/"
        },
        "id": "Srh1om-9jIjh",
        "outputId": "7c5ce46d-e435-49a4-a6f9-a0b66fed262e"
      },
      "execution_count": 15,
      "outputs": [
        {
          "output_type": "stream",
          "name": "stdout",
          "text": [
            "'for' is a Python keyword.\n"
          ]
        }
      ]
    },
    {
      "cell_type": "markdown",
      "source": [
        "5. Create a list and tuple in Python, and demonstrate how attempting to change an element works differently\n",
        "for each."
      ],
      "metadata": {
        "id": "YVBm9NvsloUw"
      }
    },
    {
      "cell_type": "code",
      "metadata": {
        "colab": {
          "base_uri": "https://localhost:8080/"
        },
        "id": "eb465a25",
        "outputId": "91e1b819-4130-48cf-b837-6a45e3dd0d5e"
      },
      "source": [
        "# Create a list\n",
        "my_list = [10, 20, 30, 40, 50]\n",
        "print(\"Original list:\", my_list)\n",
        "\n",
        "# Attempt to change an element in the list\n",
        "try:\n",
        "  my_list[2] = 35\n",
        "  print(\"List after attempting to change an element:\", my_list)\n",
        "except TypeError as e:\n",
        "  print(\"Error changing element in list:\", e)\n",
        "\n",
        "print(\"-\" * 20)\n",
        "\n",
        "# Create a tuple\n",
        "my_tuple = (1, 2, 3, 4, 5)\n",
        "print(\"Original tuple:\", my_tuple)\n",
        "\n",
        "# Attempt to change an element in the tuple\n",
        "try:\n",
        "  my_tuple[2] = 35\n",
        "  print(\"Tuple after attempting to change an element:\", my_tuple)\n",
        "except TypeError as e:\n",
        "  print(\"Error changing element in tuple:\", e)"
      ],
      "execution_count": 20,
      "outputs": [
        {
          "output_type": "stream",
          "name": "stdout",
          "text": [
            "Original list: [10, 20, 30, 40, 50]\n",
            "List after attempting to change an element: [10, 20, 35, 40, 50]\n",
            "--------------------\n",
            "Original tuple: (1, 2, 3, 4, 5)\n",
            "Error changing element in tuple: 'tuple' object does not support item assignment\n"
          ]
        }
      ]
    },
    {
      "cell_type": "markdown",
      "source": [
        "6. Write a function to demonstrate the behavior of mutable and immutable arguments"
      ],
      "metadata": {
        "id": "G9_QAE1zl2DB"
      }
    },
    {
      "cell_type": "code",
      "metadata": {
        "colab": {
          "base_uri": "https://localhost:8080/"
        },
        "id": "8ef8d2cd",
        "outputId": "ee73b600-1a72-4feb-d19c-438e01e2a326"
      },
      "source": [
        "def modify_arguments(mutable_list, immutable_int):\n",
        "  \"\"\"\n",
        "  Demonstrates the behavior of mutable and immutable arguments within a function.\n",
        "  \"\"\"\n",
        "  print(\"Inside the function:\")\n",
        "  print(\"  Before modification:\")\n",
        "  print(\"    Mutable list:\", mutable_list)\n",
        "  print(\"    Immutable integer:\", immutable_int)\n",
        "\n",
        "  # Modify the mutable argument\n",
        "  mutable_list.append(60)\n",
        "  print(\"  After modifying mutable list:\", mutable_list)\n",
        "\n",
        "  # Attempt to modify the immutable argument (creates a new object)\n",
        "  immutable_int = immutable_int + 10\n",
        "  print(\"  After attempting to modify immutable integer:\", immutable_int)\n",
        "\n",
        "# --- Demonstrate with a mutable object (list) ---\n",
        "my_list = [10, 20, 30, 40, 50]\n",
        "print(\"Outside the function (before call):\")\n",
        "print(\"  Mutable list:\", my_list)\n",
        "\n",
        "modify_arguments(my_list, 100)\n",
        "\n",
        "print(\"Outside the function (after call):\")\n",
        "print(\"  Mutable list:\", my_list) # Changes made inside the function persist\n",
        "\n",
        "print(\"-\" * 30)\n",
        "\n",
        "# --- Demonstrate with an immutable object (integer) ---\n",
        "my_int = 100\n",
        "print(\"Outside the function (before call):\")\n",
        "print(\"  Immutable integer:\", my_int)\n",
        "\n",
        "modify_arguments([1,2,3,4,5], my_int) # Passing a new list for the mutable argument\n",
        "\n",
        "print(\"Outside the function (after call):\")\n",
        "print(\"  Immutable integer:\", my_int) # Changes made inside the function do NOT persist"
      ],
      "execution_count": 21,
      "outputs": [
        {
          "output_type": "stream",
          "name": "stdout",
          "text": [
            "Outside the function (before call):\n",
            "  Mutable list: [10, 20, 30, 40, 50]\n",
            "Inside the function:\n",
            "  Before modification:\n",
            "    Mutable list: [10, 20, 30, 40, 50]\n",
            "    Immutable integer: 100\n",
            "  After modifying mutable list: [10, 20, 30, 40, 50, 60]\n",
            "  After attempting to modify immutable integer: 110\n",
            "Outside the function (after call):\n",
            "  Mutable list: [10, 20, 30, 40, 50, 60]\n",
            "------------------------------\n",
            "Outside the function (before call):\n",
            "  Immutable integer: 100\n",
            "Inside the function:\n",
            "  Before modification:\n",
            "    Mutable list: [1, 2, 3, 4, 5]\n",
            "    Immutable integer: 100\n",
            "  After modifying mutable list: [1, 2, 3, 4, 5, 60]\n",
            "  After attempting to modify immutable integer: 110\n",
            "Outside the function (after call):\n",
            "  Immutable integer: 100\n"
          ]
        }
      ]
    },
    {
      "cell_type": "markdown",
      "source": [
        "7. Write a program that performs basic arithmetic operations on two user-input numbers."
      ],
      "metadata": {
        "id": "MLdPge8dm7Bh"
      }
    },
    {
      "cell_type": "code",
      "metadata": {
        "colab": {
          "base_uri": "https://localhost:8080/"
        },
        "id": "28a2fa72",
        "outputId": "2a70e8ea-977a-4644-f48c-3201a49cc232"
      },
      "source": [
        "num1 = 31\n",
        "num2 = 11\n",
        "\n",
        "# Addition\n",
        "sum_result = num1 + num2\n",
        "print(f\"{num1} + {num2} = {sum_result}\")\n",
        "\n",
        "# Subtraction\n",
        "difference_result = num1 - num2\n",
        "print(f\"{num1} - {num2} = {difference_result}\")\n",
        "\n",
        "# Multiplication\n",
        "product_result = num1 * num2\n",
        "print(f\"{num1} * {num2} = {product_result}\")\n",
        "\n",
        "# Division\n",
        "division_result = num1 / num2\n",
        "print(f\"{num1} / {num2} = {division_result}\")\n",
        "\n",
        "# Integer Division\n",
        "integer_division_result = num1 // num2\n",
        "print(f\"{num1} // {num2} = {integer_division_result}\")\n",
        "\n",
        "# Modulo\n",
        "modulo_result = num1 % num2\n",
        "print(f\"{num1} % {num2} = {modulo_result}\")\n",
        "\n",
        "# Exponentiation\n",
        "exponentiation_result = num1 ** num2\n",
        "print(f\"{num1} ** {num2} = {exponentiation_result}\")"
      ],
      "execution_count": 26,
      "outputs": [
        {
          "output_type": "stream",
          "name": "stdout",
          "text": [
            "31 + 11 = 42\n",
            "31 - 11 = 20\n",
            "31 * 11 = 341\n",
            "31 / 11 = 2.8181818181818183\n",
            "31 // 11 = 2\n",
            "31 % 11 = 9\n",
            "31 ** 11 = 25408476896404831\n"
          ]
        }
      ]
    },
    {
      "cell_type": "markdown",
      "source": [
        "8. Write a program to demonstrate the use of logical operators."
      ],
      "metadata": {
        "id": "so48gUzMoymb"
      }
    },
    {
      "cell_type": "code",
      "metadata": {
        "colab": {
          "base_uri": "https://localhost:8080/"
        },
        "id": "31ddc73f",
        "outputId": "17ab9ad8-2fb7-4758-c846-c817c7a1e5ee"
      },
      "source": [
        "# Define some boolean variables\n",
        "is_true = True\n",
        "is_false = False\n",
        "\n",
        "# Demonstrate 'and' operator\n",
        "print(f\"True and True is {is_true and True}\")\n",
        "print(f\"True and False is {is_true and is_false}\")\n",
        "print(f\"False and False is {is_false and False}\")\n",
        "\n",
        "print(\"-\" * 20)\n",
        "\n",
        "# Demonstrate 'or' operator\n",
        "print(f\"True or True is {is_true or True}\")\n",
        "print(f\"True or False is {is_true or is_false}\")\n",
        "print(f\"False or False is {is_false or False}\")\n",
        "\n",
        "print(\"-\" * 20)\n",
        "\n",
        "# Demonstrate 'not' operator\n",
        "print(f\"not True is {not is_true}\")\n",
        "print(f\"not False is {not is_false}\")\n",
        "\n",
        "print(\"-\" * 20)\n",
        "\n",
        "# Demonstrate with conditions\n",
        "x = 10\n",
        "y = 20\n",
        "z = 5\n",
        "\n",
        "print(f\"({x} > {z}) and ({y} > {x}) is {(x > z) and (y > x)}\")\n",
        "print(f\"({x} > {y}) or ({z} < {x}) is {(x > y) or (z < x)}\")\n",
        "print(f\"not ({y} == {x}) is {not (y == x)}\")"
      ],
      "execution_count": 27,
      "outputs": [
        {
          "output_type": "stream",
          "name": "stdout",
          "text": [
            "True and True is True\n",
            "True and False is False\n",
            "False and False is False\n",
            "--------------------\n",
            "True or True is True\n",
            "True or False is True\n",
            "False or False is False\n",
            "--------------------\n",
            "not True is False\n",
            "not False is True\n",
            "--------------------\n",
            "(10 > 5) and (20 > 10) is True\n",
            "(10 > 20) or (5 < 10) is True\n",
            "not (20 == 10) is True\n"
          ]
        }
      ]
    },
    {
      "cell_type": "markdown",
      "source": [
        "9. Write a Python program to convert user input from string to integer, float, and boolean types"
      ],
      "metadata": {
        "id": "pXsHo7Veo5k6"
      }
    },
    {
      "cell_type": "code",
      "metadata": {
        "colab": {
          "base_uri": "https://localhost:8080/"
        },
        "id": "f53413a8",
        "outputId": "e1bd9c93-c5a8-402f-8298-02eb50afb29a"
      },
      "source": [
        "# Get user input as a string\n",
        "user_input_string = \"31\" # Assign the value directly\n",
        "\n",
        "# Convert to integer (if possible)\n",
        "try:\n",
        "  int_value = int(user_input_string)\n",
        "  print(f\"Converted to integer: {int_value} (type: {type(int_value)})\")\n",
        "except ValueError:\n",
        "  print(f\"Could not convert '{user_input_string}' to integer.\")\n",
        "\n",
        "# Convert to float (if possible)\n",
        "try:\n",
        "  float_value = float(user_input_string)\n",
        "  print(f\"Converted to float: {float_value} (type: {type(float_value)})\")\n",
        "except ValueError:\n",
        "  print(f\"Could not convert '{user_input_string}' to float.\")\n",
        "\n",
        "# Convert to boolean (simple example: 'True' or 'False')\n",
        "# More complex boolean conversions might be needed depending on requirements\n",
        "bool_value = user_input_string.lower() == 'true'\n",
        "print(f\"Converted to boolean: {bool_value} (type: {type(bool_value)})\")"
      ],
      "execution_count": 28,
      "outputs": [
        {
          "output_type": "stream",
          "name": "stdout",
          "text": [
            "Converted to integer: 31 (type: <class 'int'>)\n",
            "Converted to float: 31.0 (type: <class 'float'>)\n",
            "Converted to boolean: False (type: <class 'bool'>)\n"
          ]
        }
      ]
    },
    {
      "cell_type": "markdown",
      "source": [
        "10. Write code to demonstrate type casting with list elements"
      ],
      "metadata": {
        "id": "d7TdYxIdpmz4"
      }
    },
    {
      "cell_type": "code",
      "metadata": {
        "colab": {
          "base_uri": "https://localhost:8080/"
        },
        "id": "83b33ce3",
        "outputId": "9c3f4169-8d27-4a1b-d861-68aa4a9c84ff"
      },
      "source": [
        "# Create a list with elements of different types (as strings)\n",
        "string_list = [\"1\", \"2.5\", \"True\", \"False\", \"100\"]\n",
        "print(\"Original list (strings):\", string_list)\n",
        "print(\"-\" * 20)\n",
        "\n",
        "# Type cast elements to integers (if possible)\n",
        "int_list = []\n",
        "for item in string_list:\n",
        "  try:\n",
        "    int_list.append(int(item))\n",
        "  except ValueError:\n",
        "    int_list.append(item) # Keep the original item if conversion fails\n",
        "\n",
        "print(\"List after attempting to cast to integers:\", int_list)\n",
        "\n",
        "# Type cast elements to floats (if possible)\n",
        "float_list = []\n",
        "for item in string_list:\n",
        "  try:\n",
        "    float_list.append(float(item))\n",
        "  except ValueError:\n",
        "    float_list.append(item) # Keep the original item if conversion fails\n",
        "\n",
        "print(\"List after attempting to cast to floats:\", float_list)\n",
        "\n",
        "# Type cast elements to booleans (simple example: 'True' or 'False')\n",
        "bool_list = []\n",
        "for item in string_list:\n",
        "  bool_list.append(item.lower() == 'true')\n",
        "\n",
        "print(\"List after attempting to cast to booleans:\", bool_list)"
      ],
      "execution_count": 29,
      "outputs": [
        {
          "output_type": "stream",
          "name": "stdout",
          "text": [
            "Original list (strings): ['1', '2.5', 'True', 'False', '100']\n",
            "--------------------\n",
            "List after attempting to cast to integers: [1, '2.5', 'True', 'False', 100]\n",
            "List after attempting to cast to floats: [1.0, 2.5, 'True', 'False', 100.0]\n",
            "List after attempting to cast to booleans: [False, False, True, False, False]\n"
          ]
        }
      ]
    },
    {
      "cell_type": "markdown",
      "source": [
        "11. Write a program that checks if a number is positive, negative, or zero."
      ],
      "metadata": {
        "id": "DV1r94pdqFKJ"
      }
    },
    {
      "cell_type": "code",
      "metadata": {
        "colab": {
          "base_uri": "https://localhost:8080/"
        },
        "id": "07a07777",
        "outputId": "338e80e0-ecd8-45cc-fb0a-f19be18b46eb"
      },
      "source": [
        "# Get a number from the user (or define one)\n",
        "num = 10 # You can change this number to test different cases\n",
        "\n",
        "if num > 0:\n",
        "  print(f\"{num} is a positive number.\")\n",
        "elif num < 0:\n",
        "  print(f\"{num} is a negative number.\")\n",
        "else:\n",
        "  print(f\"{num} is zero.\")"
      ],
      "execution_count": 30,
      "outputs": [
        {
          "output_type": "stream",
          "name": "stdout",
          "text": [
            "10 is a positive number.\n"
          ]
        }
      ]
    },
    {
      "cell_type": "markdown",
      "source": [
        "12. Write a for loop to print numbers from 1 to 10."
      ],
      "metadata": {
        "id": "sw7xSCbJqTNR"
      }
    },
    {
      "cell_type": "code",
      "metadata": {
        "colab": {
          "base_uri": "https://localhost:8080/"
        },
        "id": "a7a7d00e",
        "outputId": "effbcd10-06b7-4d47-8e35-5a4dfc4f43bc"
      },
      "source": [
        "for i in range(1, 11):\n",
        "  print(i)"
      ],
      "execution_count": 31,
      "outputs": [
        {
          "output_type": "stream",
          "name": "stdout",
          "text": [
            "1\n",
            "2\n",
            "3\n",
            "4\n",
            "5\n",
            "6\n",
            "7\n",
            "8\n",
            "9\n",
            "10\n"
          ]
        }
      ]
    },
    {
      "cell_type": "markdown",
      "source": [
        "13. Write a Python program to find the sum of all even numbers between 1 and 50."
      ],
      "metadata": {
        "id": "FEmo8ApxqfW0"
      }
    },
    {
      "cell_type": "code",
      "metadata": {
        "colab": {
          "base_uri": "https://localhost:8080/"
        },
        "id": "fc863d05",
        "outputId": "b0f98170-b483-4300-afae-288625d0a1dd"
      },
      "source": [
        "total_sum = 0\n",
        "\n",
        "for number in range(1, 51):\n",
        "  if number % 2 == 0:\n",
        "    total_sum += number\n",
        "\n",
        "print(f\"The sum of all even numbers between 1 and 50 is: {total_sum}\")"
      ],
      "execution_count": 32,
      "outputs": [
        {
          "output_type": "stream",
          "name": "stdout",
          "text": [
            "The sum of all even numbers between 1 and 50 is: 650\n"
          ]
        }
      ]
    },
    {
      "cell_type": "markdown",
      "source": [
        "14. Write a program to reverse a string using a while loop."
      ],
      "metadata": {
        "id": "gNeAbRxirHkI"
      }
    },
    {
      "cell_type": "code",
      "metadata": {
        "colab": {
          "base_uri": "https://localhost:8080/"
        },
        "id": "8b4532dd",
        "outputId": "e4f4fe78-7898-4ce3-bc39-90c1c549f3e8"
      },
      "source": [
        "input_string = \"Hello, World!\"\n",
        "reversed_string = \"\"\n",
        "index = len(input_string) - 1\n",
        "\n",
        "while index >= 0:\n",
        "  reversed_string += input_string[index]\n",
        "  index -= 1\n",
        "\n",
        "print(f\"Original string: {input_string}\")\n",
        "print(f\"Reversed string: {reversed_string}\")"
      ],
      "execution_count": 33,
      "outputs": [
        {
          "output_type": "stream",
          "name": "stdout",
          "text": [
            "Original string: Hello, World!\n",
            "Reversed string: !dlroW ,olleH\n"
          ]
        }
      ]
    },
    {
      "cell_type": "markdown",
      "source": [
        "15. Write a Python program to calculate the factorial of a number provided by the user using a while loop."
      ],
      "metadata": {
        "id": "a4JP59c5rP7O"
      }
    },
    {
      "cell_type": "code",
      "metadata": {
        "colab": {
          "base_uri": "https://localhost:8080/"
        },
        "id": "bc57357d",
        "outputId": "3a9f17ab-c9a2-4f13-db5b-b97c56b2018c"
      },
      "source": [
        "# Get input from the user\n",
        "num_str = \"6\" # Assign the value directly\n",
        "\n",
        "try:\n",
        "  num = int(num_str)\n",
        "\n",
        "  # Check if the number is non-negative\n",
        "  if num < 0:\n",
        "    print(\"Factorial is not defined for negative numbers.\")\n",
        "  elif num == 0:\n",
        "    print(\"The factorial of 0 is 1.\")\n",
        "  else:\n",
        "    factorial = 1\n",
        "    i = 1\n",
        "    while i <= num:\n",
        "      factorial *= i\n",
        "      i += 1\n",
        "    print(f\"The factorial of {num} is {factorial}.\")\n",
        "\n",
        "except ValueError:\n",
        "  print(\"Invalid input. Please enter an integer.\")"
      ],
      "execution_count": 35,
      "outputs": [
        {
          "output_type": "stream",
          "name": "stdout",
          "text": [
            "The factorial of 6 is 720.\n"
          ]
        }
      ]
    }
  ]
}